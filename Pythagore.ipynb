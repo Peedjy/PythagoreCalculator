{
 "cells": [
  {
   "cell_type": "code",
   "execution_count": 1,
   "id": "9e7d9cd1",
   "metadata": {},
   "outputs": [],
   "source": [
    "import math\n",
    "import matplotlib.pyplot as plt\n",
    "import numpy as np"
   ]
  },
  {
   "cell_type": "code",
   "execution_count": 2,
   "id": "1ff522ac",
   "metadata": {},
   "outputs": [],
   "source": [
    "# Fonctions pour effectuer les calculs\n",
    "def hypotenus(a, b):\n",
    "    \"\"\"\n",
    "    Fonction pour calculer la longueur de l'hypoténuse d'un triangle rectangle\n",
    "    en utilisant le théorème de Pythagore.\n",
    "\n",
    "    :param a: Longueur du premier côté\n",
    "    :param b: Longueur du deuxième côté\n",
    "    \n",
    "    :return h: Longueur de l'hypoténuse\n",
    "    \"\"\"\n",
    "    h = math.sqrt(a**2 + b**2)\n",
    "    return h\n",
    "\n",
    "def cote (h, a):\n",
    "    \"\"\"\n",
    "    Fonction pour calculer la longueur d'un des côtés d'un triangle rectangle\n",
    "    en utilisant le théorème de Pythagore.\n",
    "\n",
    "    :param h: Longueur de l'hypoténuse\n",
    "    :param a: Longueur du premier côté\n",
    "    \n",
    "    :return b: Longueur du côté inconnu\n",
    "    \"\"\"\n",
    "    b = math.sqrt(h**2 - a**2)\n",
    "    return b\n",
    "    "
   ]
  },
  {
   "cell_type": "code",
   "execution_count": 3,
   "id": "3eee93bf",
   "metadata": {
    "scrolled": true
   },
   "outputs": [],
   "source": [
    "# Fonction pour dessiner le triangle\n",
    "def dessiner_triangle(a, b, h):\n",
    "    \"\"\"\n",
    "    Fonction pour dessiner un triangle en utilisant la bibliothèque matplotlib.\n",
    "\n",
    "    :param a: Longueur du premier côté\n",
    "    :param b: Longueur du deuxième côté\n",
    "    :param h: Longueur de l'hypoténuse\n",
    "    \"\"\"\n",
    "    # Créer les coordonnées des points du triangle\n",
    "    points = np.array([[0, 0], [a, 0], [0, b]])\n",
    "\n",
    "    # Créer une figure et un axe\n",
    "    fig, ax = plt.subplots()\n",
    "\n",
    "    # Dessiner le triangle\n",
    "    triangle = plt.Polygon(points, closed=True, edgecolor='black')\n",
    "    ax.add_patch(triangle)\n",
    "\n",
    "    # Ajouter les longueurs des côtés\n",
    "    ax.text(a / 2, -0.5, f\"{a}\", ha='center')\n",
    "    ax.text(-0.5, b / 2, f\"{b}\", va='center', rotation='vertical')\n",
    "    ax.text(a / 2, b / 2 + 0.5, f\"{h}\", ha='center', va='center') # le +0.5 permet de légèrement décaller l'étiquettte de l'hypoténus\n",
    "\n",
    "    \n",
    "    # Configurer les axes\n",
    "    ax.set_xlim(-1, max(a, b) + 1)\n",
    "    ax.set_ylim(-1, max(a, b) + 1)\n",
    "\n",
    "    # Afficher le graphique\n",
    "    #plt.xlabel('Longueur')\n",
    "    #plt.ylabel('Largeur')\n",
    "    plt.title('Triangle rectangle')\n",
    "    plt.grid(False)\n",
    "    plt.show()\n"
   ]
  },
  {
   "cell_type": "markdown",
   "id": "54419b21",
   "metadata": {},
   "source": [
    "## START"
   ]
  },
  {
   "cell_type": "code",
   "execution_count": 5,
   "id": "76acedc3",
   "metadata": {},
   "outputs": [
    {
     "name": "stdout",
     "output_type": "stream",
     "text": [
      "Voulez-vous calculer un côté (c) ou l'hypoténuse (h) ? c\n",
      "Entrez la longueur de l'hypoténus: 5\n",
      "Entrez la longueur du côté connu: 3\n",
      "La longueur du second coté est: 4.0\n"
     ]
    },
    {
     "data": {
      "image/png": "[encoded data removed]",
      "text/plain": [
       "<Figure size 640x480 with 1 Axes>"
      ]
     },
     "metadata": {},
     "output_type": "display_data"
    }
   ],
   "source": [
    "# Demander à l'utilisateur s'il cherche un côté ou l'hypoténuse\n",
    "choix = input(\"Voulez-vous calculer un côté (c) ou l'hypoténuse (h) ? \")\n",
    "\n",
    "if choix.lower() == 'h':\n",
    "    # Demander à l'utilisateur les longueurs des deux côtés connus\n",
    "    a = float(input(\"Entrez la longueur du premier côté: \"))\n",
    "    b = float(input(\"Entrez la longueur du deuxième côté: \"))\n",
    "    \n",
    "    # Calculer la longueur de l'hypotenus avec la fonction hypotenus\n",
    "    h = hypotenus(a, b)\n",
    "    \n",
    "    # Afficher le résultat\n",
    "    print(f\"La longueur de l'hypoténus est: {h}\")\n",
    "\n",
    "elif choix.lower() == 'c':\n",
    "    # Demander à l'utilisateur les longueurs connues\n",
    "    h = float(input(\"Entrez la longueur de l'hypoténus: \"))\n",
    "    a = float(input(\"Entrez la longueur du côté connu: \"))\n",
    "    \n",
    "    # Calculer la longueur du second coté avec le fonction cote\n",
    "    b = cote(h, a)\n",
    "    \n",
    "    # Afficher le résultat\n",
    "    print(f\"La longueur du second coté est: {b}\")\n",
    "\n",
    "else:\n",
    "    print(\"Choix non valide. Veuillez entrer 'c' pour calculer un côté ou 'h' pour l'hypoténuse.\")\n",
    "\n",
    "# Longueurs des côtés du triangle\n",
    "a = a\n",
    "b = b\n",
    "h = h\n",
    "\n",
    "# Dessiner le triangle\n",
    "dessiner_triangle(a, b, h)"
   ]
  },
  {
   "cell_type": "code",
   "execution_count": null,
   "id": "93c26c0d",
   "metadata": {},
   "outputs": [],
   "source": []
  },
  {
   "cell_type": "code",
   "execution_count": null,
   "id": "158329fc",
   "metadata": {},
   "outputs": [],
   "source": []
  }
 ],
 "metadata": {
  "kernelspec": {
   "display_name": "Python 3 (ipykernel)",
   "language": "python",
   "name": "python3"
  },
  "language_info": {
   "codemirror_mode": {
    "name": "ipython",
    "version": 3
   },
   "file_extension": ".py",
   "mimetype": "text/x-python",
   "name": "python",
   "nbconvert_exporter": "python",
   "pygments_lexer": "ipython3",
   "version": "3.11.5"
  }
 },
 "nbformat": 4,
 "nbformat_minor": 5
}
